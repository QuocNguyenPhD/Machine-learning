{
 "cells": [
  {
   "cell_type": "markdown",
   "id": "3062d3f4",
   "metadata": {},
   "source": [
    "# "
   ]
  },
  {
   "cell_type": "code",
   "execution_count": 1,
   "id": "ed677a16",
   "metadata": {},
   "outputs": [],
   "source": [
    "import numpy as np\n",
    "import pandas as pd\n",
    "import matplotlib as mpl"
   ]
  },
  {
   "cell_type": "markdown",
   "id": "d1017a2c",
   "metadata": {},
   "source": [
    "## 1)"
   ]
  },
  {
   "cell_type": "code",
   "execution_count": 2,
   "id": "1be11b9d",
   "metadata": {},
   "outputs": [],
   "source": [
    "data=pd.read_csv('BDOShoham.csv')"
   ]
  },
  {
   "cell_type": "code",
   "execution_count": 3,
   "id": "71f6780d",
   "metadata": {},
   "outputs": [
    {
     "data": {
      "text/html": [
       "<div>\n",
       "<style scoped>\n",
       "    .dataframe tbody tr th:only-of-type {\n",
       "        vertical-align: middle;\n",
       "    }\n",
       "\n",
       "    .dataframe tbody tr th {\n",
       "        vertical-align: top;\n",
       "    }\n",
       "\n",
       "    .dataframe thead th {\n",
       "        text-align: right;\n",
       "    }\n",
       "</style>\n",
       "<table border=\"1\" class=\"dataframe\">\n",
       "  <thead>\n",
       "    <tr style=\"text-align: right;\">\n",
       "      <th></th>\n",
       "      <th>FlowPattern</th>\n",
       "      <th>Vsl</th>\n",
       "      <th>Vsg</th>\n",
       "      <th>VisL</th>\n",
       "      <th>VisG</th>\n",
       "      <th>DenL</th>\n",
       "      <th>DenG</th>\n",
       "      <th>ST</th>\n",
       "      <th>Ang</th>\n",
       "      <th>ID</th>\n",
       "    </tr>\n",
       "  </thead>\n",
       "  <tbody>\n",
       "    <tr>\n",
       "      <th>0</th>\n",
       "      <td>1</td>\n",
       "      <td>6.30000</td>\n",
       "      <td>0.0250</td>\n",
       "      <td>0.001</td>\n",
       "      <td>0.00002</td>\n",
       "      <td>1000</td>\n",
       "      <td>1.8</td>\n",
       "      <td>0.07</td>\n",
       "      <td>0.0</td>\n",
       "      <td>0.051</td>\n",
       "    </tr>\n",
       "    <tr>\n",
       "      <th>1</th>\n",
       "      <td>1</td>\n",
       "      <td>4.00000</td>\n",
       "      <td>0.0400</td>\n",
       "      <td>0.001</td>\n",
       "      <td>0.00002</td>\n",
       "      <td>1000</td>\n",
       "      <td>1.8</td>\n",
       "      <td>0.07</td>\n",
       "      <td>0.0</td>\n",
       "      <td>0.051</td>\n",
       "    </tr>\n",
       "    <tr>\n",
       "      <th>2</th>\n",
       "      <td>1</td>\n",
       "      <td>6.30000</td>\n",
       "      <td>0.0400</td>\n",
       "      <td>0.001</td>\n",
       "      <td>0.00002</td>\n",
       "      <td>1000</td>\n",
       "      <td>1.8</td>\n",
       "      <td>0.07</td>\n",
       "      <td>0.0</td>\n",
       "      <td>0.051</td>\n",
       "    </tr>\n",
       "    <tr>\n",
       "      <th>3</th>\n",
       "      <td>1</td>\n",
       "      <td>4.00000</td>\n",
       "      <td>0.0630</td>\n",
       "      <td>0.001</td>\n",
       "      <td>0.00002</td>\n",
       "      <td>1000</td>\n",
       "      <td>1.8</td>\n",
       "      <td>0.07</td>\n",
       "      <td>0.0</td>\n",
       "      <td>0.051</td>\n",
       "    </tr>\n",
       "    <tr>\n",
       "      <th>4</th>\n",
       "      <td>1</td>\n",
       "      <td>6.30000</td>\n",
       "      <td>0.0630</td>\n",
       "      <td>0.001</td>\n",
       "      <td>0.00002</td>\n",
       "      <td>1000</td>\n",
       "      <td>1.8</td>\n",
       "      <td>0.07</td>\n",
       "      <td>0.0</td>\n",
       "      <td>0.051</td>\n",
       "    </tr>\n",
       "    <tr>\n",
       "      <th>...</th>\n",
       "      <td>...</td>\n",
       "      <td>...</td>\n",
       "      <td>...</td>\n",
       "      <td>...</td>\n",
       "      <td>...</td>\n",
       "      <td>...</td>\n",
       "      <td>...</td>\n",
       "      <td>...</td>\n",
       "      <td>...</td>\n",
       "      <td>...</td>\n",
       "    </tr>\n",
       "    <tr>\n",
       "      <th>5670</th>\n",
       "      <td>5</td>\n",
       "      <td>2.70096</td>\n",
       "      <td>15.8561</td>\n",
       "      <td>0.001</td>\n",
       "      <td>0.00002</td>\n",
       "      <td>1000</td>\n",
       "      <td>1.8</td>\n",
       "      <td>0.07</td>\n",
       "      <td>-80.0</td>\n",
       "      <td>0.025</td>\n",
       "    </tr>\n",
       "    <tr>\n",
       "      <th>5671</th>\n",
       "      <td>5</td>\n",
       "      <td>1.58784</td>\n",
       "      <td>15.8394</td>\n",
       "      <td>0.001</td>\n",
       "      <td>0.00002</td>\n",
       "      <td>1000</td>\n",
       "      <td>1.8</td>\n",
       "      <td>0.07</td>\n",
       "      <td>-80.0</td>\n",
       "      <td>0.025</td>\n",
       "    </tr>\n",
       "    <tr>\n",
       "      <th>5672</th>\n",
       "      <td>5</td>\n",
       "      <td>1.05338</td>\n",
       "      <td>16.0692</td>\n",
       "      <td>0.001</td>\n",
       "      <td>0.00002</td>\n",
       "      <td>1000</td>\n",
       "      <td>1.8</td>\n",
       "      <td>0.07</td>\n",
       "      <td>-80.0</td>\n",
       "      <td>0.025</td>\n",
       "    </tr>\n",
       "    <tr>\n",
       "      <th>5673</th>\n",
       "      <td>5</td>\n",
       "      <td>1.05397</td>\n",
       "      <td>25.7439</td>\n",
       "      <td>0.001</td>\n",
       "      <td>0.00002</td>\n",
       "      <td>1000</td>\n",
       "      <td>1.8</td>\n",
       "      <td>0.07</td>\n",
       "      <td>-80.0</td>\n",
       "      <td>0.025</td>\n",
       "    </tr>\n",
       "    <tr>\n",
       "      <th>5674</th>\n",
       "      <td>5</td>\n",
       "      <td>1.66789</td>\n",
       "      <td>26.1616</td>\n",
       "      <td>0.001</td>\n",
       "      <td>0.00002</td>\n",
       "      <td>1000</td>\n",
       "      <td>1.8</td>\n",
       "      <td>0.07</td>\n",
       "      <td>-80.0</td>\n",
       "      <td>0.025</td>\n",
       "    </tr>\n",
       "  </tbody>\n",
       "</table>\n",
       "<p>5675 rows × 10 columns</p>\n",
       "</div>"
      ],
      "text/plain": [
       "      FlowPattern      Vsl      Vsg   VisL     VisG  DenL  DenG    ST   Ang  \\\n",
       "0               1  6.30000   0.0250  0.001  0.00002  1000   1.8  0.07   0.0   \n",
       "1               1  4.00000   0.0400  0.001  0.00002  1000   1.8  0.07   0.0   \n",
       "2               1  6.30000   0.0400  0.001  0.00002  1000   1.8  0.07   0.0   \n",
       "3               1  4.00000   0.0630  0.001  0.00002  1000   1.8  0.07   0.0   \n",
       "4               1  6.30000   0.0630  0.001  0.00002  1000   1.8  0.07   0.0   \n",
       "...           ...      ...      ...    ...      ...   ...   ...   ...   ...   \n",
       "5670            5  2.70096  15.8561  0.001  0.00002  1000   1.8  0.07 -80.0   \n",
       "5671            5  1.58784  15.8394  0.001  0.00002  1000   1.8  0.07 -80.0   \n",
       "5672            5  1.05338  16.0692  0.001  0.00002  1000   1.8  0.07 -80.0   \n",
       "5673            5  1.05397  25.7439  0.001  0.00002  1000   1.8  0.07 -80.0   \n",
       "5674            5  1.66789  26.1616  0.001  0.00002  1000   1.8  0.07 -80.0   \n",
       "\n",
       "         ID  \n",
       "0     0.051  \n",
       "1     0.051  \n",
       "2     0.051  \n",
       "3     0.051  \n",
       "4     0.051  \n",
       "...     ...  \n",
       "5670  0.025  \n",
       "5671  0.025  \n",
       "5672  0.025  \n",
       "5673  0.025  \n",
       "5674  0.025  \n",
       "\n",
       "[5675 rows x 10 columns]"
      ]
     },
     "execution_count": 3,
     "metadata": {},
     "output_type": "execute_result"
    }
   ],
   "source": [
    "data"
   ]
  },
  {
   "cell_type": "code",
   "execution_count": 4,
   "id": "b70d8d1b",
   "metadata": {},
   "outputs": [
    {
     "data": {
      "text/html": [
       "<div>\n",
       "<style scoped>\n",
       "    .dataframe tbody tr th:only-of-type {\n",
       "        vertical-align: middle;\n",
       "    }\n",
       "\n",
       "    .dataframe tbody tr th {\n",
       "        vertical-align: top;\n",
       "    }\n",
       "\n",
       "    .dataframe thead th {\n",
       "        text-align: right;\n",
       "    }\n",
       "</style>\n",
       "<table border=\"1\" class=\"dataframe\">\n",
       "  <thead>\n",
       "    <tr style=\"text-align: right;\">\n",
       "      <th></th>\n",
       "      <th>FlowPattern</th>\n",
       "      <th>Vsl</th>\n",
       "      <th>Vsg</th>\n",
       "      <th>VisL</th>\n",
       "      <th>VisG</th>\n",
       "      <th>DenL</th>\n",
       "      <th>DenG</th>\n",
       "      <th>ST</th>\n",
       "      <th>Ang</th>\n",
       "      <th>ID</th>\n",
       "    </tr>\n",
       "  </thead>\n",
       "  <tbody>\n",
       "    <tr>\n",
       "      <th>count</th>\n",
       "      <td>5675.000000</td>\n",
       "      <td>5675.000000</td>\n",
       "      <td>5675.000000</td>\n",
       "      <td>5.675000e+03</td>\n",
       "      <td>5.675000e+03</td>\n",
       "      <td>5675.0</td>\n",
       "      <td>5.675000e+03</td>\n",
       "      <td>5.675000e+03</td>\n",
       "      <td>5675.000000</td>\n",
       "      <td>5675.000000</td>\n",
       "    </tr>\n",
       "    <tr>\n",
       "      <th>mean</th>\n",
       "      <td>4.059912</td>\n",
       "      <td>0.899747</td>\n",
       "      <td>6.222612</td>\n",
       "      <td>1.000000e-03</td>\n",
       "      <td>2.000000e-05</td>\n",
       "      <td>1000.0</td>\n",
       "      <td>1.800000e+00</td>\n",
       "      <td>7.000000e-02</td>\n",
       "      <td>2.727401</td>\n",
       "      <td>0.038657</td>\n",
       "    </tr>\n",
       "    <tr>\n",
       "      <th>std</th>\n",
       "      <td>1.379238</td>\n",
       "      <td>1.425159</td>\n",
       "      <td>8.699644</td>\n",
       "      <td>4.055273e-17</td>\n",
       "      <td>2.361736e-18</td>\n",
       "      <td>0.0</td>\n",
       "      <td>4.108187e-14</td>\n",
       "      <td>5.690394e-15</td>\n",
       "      <td>46.202822</td>\n",
       "      <td>0.012985</td>\n",
       "    </tr>\n",
       "    <tr>\n",
       "      <th>min</th>\n",
       "      <td>1.000000</td>\n",
       "      <td>0.001100</td>\n",
       "      <td>0.003720</td>\n",
       "      <td>1.000000e-03</td>\n",
       "      <td>2.000000e-05</td>\n",
       "      <td>1000.0</td>\n",
       "      <td>1.800000e+00</td>\n",
       "      <td>7.000000e-02</td>\n",
       "      <td>-90.000000</td>\n",
       "      <td>0.025000</td>\n",
       "    </tr>\n",
       "    <tr>\n",
       "      <th>25%</th>\n",
       "      <td>3.000000</td>\n",
       "      <td>0.016000</td>\n",
       "      <td>0.162055</td>\n",
       "      <td>1.000000e-03</td>\n",
       "      <td>2.000000e-05</td>\n",
       "      <td>1000.0</td>\n",
       "      <td>1.800000e+00</td>\n",
       "      <td>7.000000e-02</td>\n",
       "      <td>-10.000000</td>\n",
       "      <td>0.025000</td>\n",
       "    </tr>\n",
       "    <tr>\n",
       "      <th>50%</th>\n",
       "      <td>5.000000</td>\n",
       "      <td>0.250000</td>\n",
       "      <td>1.600000</td>\n",
       "      <td>1.000000e-03</td>\n",
       "      <td>2.000000e-05</td>\n",
       "      <td>1000.0</td>\n",
       "      <td>1.800000e+00</td>\n",
       "      <td>7.000000e-02</td>\n",
       "      <td>0.500000</td>\n",
       "      <td>0.051000</td>\n",
       "    </tr>\n",
       "    <tr>\n",
       "      <th>75%</th>\n",
       "      <td>5.000000</td>\n",
       "      <td>1.500000</td>\n",
       "      <td>10.000000</td>\n",
       "      <td>1.000000e-03</td>\n",
       "      <td>2.000000e-05</td>\n",
       "      <td>1000.0</td>\n",
       "      <td>1.800000e+00</td>\n",
       "      <td>7.000000e-02</td>\n",
       "      <td>20.000000</td>\n",
       "      <td>0.051000</td>\n",
       "    </tr>\n",
       "    <tr>\n",
       "      <th>max</th>\n",
       "      <td>7.000000</td>\n",
       "      <td>25.517000</td>\n",
       "      <td>42.956200</td>\n",
       "      <td>1.000000e-03</td>\n",
       "      <td>2.000000e-05</td>\n",
       "      <td>1000.0</td>\n",
       "      <td>1.800000e+00</td>\n",
       "      <td>7.000000e-02</td>\n",
       "      <td>90.000000</td>\n",
       "      <td>0.051000</td>\n",
       "    </tr>\n",
       "  </tbody>\n",
       "</table>\n",
       "</div>"
      ],
      "text/plain": [
       "       FlowPattern          Vsl          Vsg          VisL          VisG  \\\n",
       "count  5675.000000  5675.000000  5675.000000  5.675000e+03  5.675000e+03   \n",
       "mean      4.059912     0.899747     6.222612  1.000000e-03  2.000000e-05   \n",
       "std       1.379238     1.425159     8.699644  4.055273e-17  2.361736e-18   \n",
       "min       1.000000     0.001100     0.003720  1.000000e-03  2.000000e-05   \n",
       "25%       3.000000     0.016000     0.162055  1.000000e-03  2.000000e-05   \n",
       "50%       5.000000     0.250000     1.600000  1.000000e-03  2.000000e-05   \n",
       "75%       5.000000     1.500000    10.000000  1.000000e-03  2.000000e-05   \n",
       "max       7.000000    25.517000    42.956200  1.000000e-03  2.000000e-05   \n",
       "\n",
       "         DenL          DenG            ST          Ang           ID  \n",
       "count  5675.0  5.675000e+03  5.675000e+03  5675.000000  5675.000000  \n",
       "mean   1000.0  1.800000e+00  7.000000e-02     2.727401     0.038657  \n",
       "std       0.0  4.108187e-14  5.690394e-15    46.202822     0.012985  \n",
       "min    1000.0  1.800000e+00  7.000000e-02   -90.000000     0.025000  \n",
       "25%    1000.0  1.800000e+00  7.000000e-02   -10.000000     0.025000  \n",
       "50%    1000.0  1.800000e+00  7.000000e-02     0.500000     0.051000  \n",
       "75%    1000.0  1.800000e+00  7.000000e-02    20.000000     0.051000  \n",
       "max    1000.0  1.800000e+00  7.000000e-02    90.000000     0.051000  "
      ]
     },
     "execution_count": 4,
     "metadata": {},
     "output_type": "execute_result"
    }
   ],
   "source": [
    "data.describe()"
   ]
  },
  {
   "cell_type": "code",
   "execution_count": null,
   "id": "b7da8fa3",
   "metadata": {},
   "outputs": [],
   "source": [
    "\n",
    "print('Summary of X')\n",
    "print()\n",
    "\n",
    "print('Histograms:')\n",
    "data.hist(figsize=(15, 15), bins=5)  \n",
    "mpl.pyplot.show()\n",
    "\n",
    "print('Box plots:')\n",
    "data.plot(figsize=(15, 5), kind='box', subplots=True, sharex=False, sharey=False)\n",
    "mpl.pyplot.show()"
   ]
  },
  {
   "cell_type": "markdown",
   "id": "2e3b8ec5",
   "metadata": {},
   "source": [
    "## 2,3)"
   ]
  },
  {
   "cell_type": "code",
   "execution_count": 6,
   "id": "27a86cc4",
   "metadata": {},
   "outputs": [],
   "source": [
    "# Import libraries\n",
    "\n",
    "# First, let’s import all of the modules, functions and objects we are going to use in this tutorial.\n",
    "\n",
    "# Pandas for data handling\n",
    "import pandas # https://pandas.pydata.org/\n",
    "from pandas.plotting import scatter_matrix\n",
    "\n",
    "# pretty tables\n",
    "from IPython.display import display\n",
    "\n",
    "# NumPy for numerical computing\n",
    "import numpy # https://numpy.org/\n",
    "\n",
    "# MatPlotLib + Seaborn for visualization\n",
    "import matplotlib.pyplot as pl  # https://matplotlib.org/\n",
    "import seaborn as sns   # https://seaborn.pydata.org/\n",
    "\n",
    "# assessment\n",
    "from sklearn import model_selection # for model comparisons\n",
    "from sklearn.metrics import accuracy_score\n",
    "from sklearn.metrics import confusion_matrix\n",
    "from sklearn.metrics import classification_report\n",
    "from sklearn.metrics import cohen_kappa_score\n",
    "\n",
    "# algorithms\n",
    "from sklearn.linear_model import LogisticRegression\n",
    "from sklearn.neighbors import KNeighborsClassifier"
   ]
  },
  {
   "cell_type": "code",
   "execution_count": 7,
   "id": "3a052117",
   "metadata": {},
   "outputs": [],
   "source": [
    "y=data['FlowPattern']"
   ]
  },
  {
   "cell_type": "code",
   "execution_count": 8,
   "id": "ea230f60",
   "metadata": {},
   "outputs": [],
   "source": [
    "X=data.loc[:, ['Vsl','Vsg', 'Ang']]"
   ]
  },
  {
   "cell_type": "code",
   "execution_count": 9,
   "id": "2e0c1fb8",
   "metadata": {},
   "outputs": [],
   "source": [
    "# Split data into training and testing datasets\n",
    "\n",
    "test_pct = 0.20   # reserve 20% of the data points for testing performance\n",
    "seed = 7          # setting the seed allows for repeatability\n",
    "X_train, X_test, y_train, y_test = model_selection.train_test_split(X, y, test_size=test_pct, random_state=seed)"
   ]
  },
  {
   "cell_type": "code",
   "execution_count": 10,
   "id": "a9e771c2",
   "metadata": {},
   "outputs": [
    {
     "name": "stdout",
     "output_type": "stream",
     "text": [
      "done \n",
      "\n"
     ]
    }
   ],
   "source": [
    "models = []\n",
    "models.append(('LR', LogisticRegression(multi_class='multinomial', class_weight=None, solver='lbfgs', max_iter=250)))\n",
    "models.append(('kNN', KNeighborsClassifier(n_neighbors=5, weights='uniform', algorithm='auto', p=2)))\n",
    "print('done \\n')"
   ]
  },
  {
   "cell_type": "code",
   "execution_count": 11,
   "id": "f2c471dd",
   "metadata": {},
   "outputs": [
    {
     "name": "stderr",
     "output_type": "stream",
     "text": [
      "/opt/anaconda3/lib/python3.9/site-packages/sklearn/linear_model/_logistic.py:763: ConvergenceWarning: lbfgs failed to converge (status=1):\n",
      "STOP: TOTAL NO. of ITERATIONS REACHED LIMIT.\n",
      "\n",
      "Increase the number of iterations (max_iter) or scale the data as shown in:\n",
      "    https://scikit-learn.org/stable/modules/preprocessing.html\n",
      "Please also refer to the documentation for alternative solver options:\n",
      "    https://scikit-learn.org/stable/modules/linear_model.html#logistic-regression\n",
      "  n_iter_i = _check_optimize_result(\n"
     ]
    },
    {
     "name": "stdout",
     "output_type": "stream",
     "text": [
      "RESULTS FOR LR\n",
      "Accuracy: 0.6581497797356828\n"
     ]
    },
    {
     "data": {
      "image/png": "[encoded data removed]",
      "text/plain": [
       "<Figure size 432x288 with 1 Axes>"
      ]
     },
     "metadata": {
      "needs_background": "light"
     },
     "output_type": "display_data"
    },
    {
     "name": "stderr",
     "output_type": "stream",
     "text": [
      "/opt/anaconda3/lib/python3.9/site-packages/sklearn/metrics/_classification.py:1248: UndefinedMetricWarning: Precision and F-score are ill-defined and being set to 0.0 in labels with no predicted samples. Use `zero_division` parameter to control this behavior.\n",
      "  _warn_prf(average, modifier, msg_start, len(result))\n",
      "/opt/anaconda3/lib/python3.9/site-packages/sklearn/metrics/_classification.py:1248: UndefinedMetricWarning: Precision and F-score are ill-defined and being set to 0.0 in labels with no predicted samples. Use `zero_division` parameter to control this behavior.\n",
      "  _warn_prf(average, modifier, msg_start, len(result))\n",
      "/opt/anaconda3/lib/python3.9/site-packages/sklearn/metrics/_classification.py:1248: UndefinedMetricWarning: Precision and F-score are ill-defined and being set to 0.0 in labels with no predicted samples. Use `zero_division` parameter to control this behavior.\n",
      "  _warn_prf(average, modifier, msg_start, len(result))\n"
     ]
    },
    {
     "name": "stdout",
     "output_type": "stream",
     "text": [
      "\n",
      " clasification report:\n",
      "               precision    recall  f1-score   support\n",
      "\n",
      "           1       0.82      0.53      0.64       116\n",
      "           2       0.00      0.00      0.00        27\n",
      "           3       0.29      0.12      0.17       184\n",
      "           4       0.72      0.67      0.70       217\n",
      "           5       0.66      0.89      0.76       570\n",
      "           7       0.62      0.48      0.54        21\n",
      "\n",
      "    accuracy                           0.66      1135\n",
      "   macro avg       0.52      0.45      0.47      1135\n",
      "weighted avg       0.61      0.66      0.62      1135\n",
      "\n",
      "Cohen Kappa Score: 0.4395832060757844\n",
      "\n",
      "\n",
      "RESULTS FOR kNN\n",
      "Accuracy: 0.8405286343612335\n"
     ]
    },
    {
     "data": {
      "image/png": "[encoded data removed]",
      "text/plain": [
       "<Figure size 432x288 with 1 Axes>"
      ]
     },
     "metadata": {
      "needs_background": "light"
     },
     "output_type": "display_data"
    },
    {
     "name": "stdout",
     "output_type": "stream",
     "text": [
      "\n",
      " clasification report:\n",
      "               precision    recall  f1-score   support\n",
      "\n",
      "           1       0.71      0.77      0.74       116\n",
      "           2       0.80      0.89      0.84        27\n",
      "           3       0.77      0.85      0.81       184\n",
      "           4       0.83      0.82      0.83       217\n",
      "           5       0.92      0.86      0.89       570\n",
      "           7       0.54      0.67      0.60        21\n",
      "\n",
      "    accuracy                           0.84      1135\n",
      "   macro avg       0.76      0.81      0.78      1135\n",
      "weighted avg       0.85      0.84      0.84      1135\n",
      "\n",
      "Cohen Kappa Score: 0.7676166667609314\n",
      "\n",
      "\n"
     ]
    }
   ],
   "source": [
    "for name, modelName in models:   # Select each model in turn\n",
    "    modelName.fit(X_train, y_train)  # train the model on the training data\n",
    "    y_predicted = modelName.predict(X_test)  # make predictions using the validation data\n",
    "    # What does the error look like?\n",
    "    print('RESULTS FOR '+name)  \n",
    "    print('Accuracy:', accuracy_score(y_test, y_predicted))\n",
    "    sns.heatmap(confusion_matrix(y_test, y_predicted), square=True, annot=True, fmt='d', cbar=False)\n",
    "    pl.xlabel('predicted')\n",
    "    pl.ylabel('true');\n",
    "    pl.show()\n",
    "    print('\\n clasification report:\\n', classification_report(y_test, y_predicted))\n",
    "    print('Cohen Kappa Score:', cohen_kappa_score(y_test, y_predicted))\n",
    "    print('\\n')"
   ]
  },
  {
   "cell_type": "markdown",
   "id": "86c484d9",
   "metadata": {},
   "source": [
    "## 4)"
   ]
  },
  {
   "cell_type": "code",
   "execution_count": 12,
   "id": "6c0247e1",
   "metadata": {},
   "outputs": [
    {
     "name": "stdout",
     "output_type": "stream",
     "text": [
      "done \n",
      "\n"
     ]
    }
   ],
   "source": [
    "models = []\n",
    "models.append(('LR', LogisticRegression(multi_class='multinomial', class_weight=\"balanced\", solver='lbfgs', max_iter=250)))\n",
    "models.append(('kNN', KNeighborsClassifier(n_neighbors=10, weights='distance', algorithm='auto', p=2)))\n",
    "print('done \\n')"
   ]
  },
  {
   "cell_type": "code",
   "execution_count": 13,
   "id": "5fc387e1",
   "metadata": {},
   "outputs": [
    {
     "name": "stdout",
     "output_type": "stream",
     "text": [
      "RESULTS FOR LR\n",
      "Accuracy: 0.533920704845815\n"
     ]
    },
    {
     "name": "stderr",
     "output_type": "stream",
     "text": [
      "/opt/anaconda3/lib/python3.9/site-packages/sklearn/linear_model/_logistic.py:763: ConvergenceWarning: lbfgs failed to converge (status=1):\n",
      "STOP: TOTAL NO. of ITERATIONS REACHED LIMIT.\n",
      "\n",
      "Increase the number of iterations (max_iter) or scale the data as shown in:\n",
      "    https://scikit-learn.org/stable/modules/preprocessing.html\n",
      "Please also refer to the documentation for alternative solver options:\n",
      "    https://scikit-learn.org/stable/modules/linear_model.html#logistic-regression\n",
      "  n_iter_i = _check_optimize_result(\n"
     ]
    },
    {
     "data": {
      "image/png": "[encoded data removed]",
      "text/plain": [
       "<Figure size 432x288 with 1 Axes>"
      ]
     },
     "metadata": {
      "needs_background": "light"
     },
     "output_type": "display_data"
    },
    {
     "name": "stdout",
     "output_type": "stream",
     "text": [
      "\n",
      " clasification report:\n",
      "               precision    recall  f1-score   support\n",
      "\n",
      "           1       0.58      0.92      0.71       116\n",
      "           2       0.13      0.96      0.24        27\n",
      "           3       0.39      0.43      0.41       184\n",
      "           4       0.69      0.69      0.69       217\n",
      "           5       0.84      0.39      0.53       570\n",
      "           7       0.29      1.00      0.45        21\n",
      "\n",
      "    accuracy                           0.53      1135\n",
      "   macro avg       0.49      0.73      0.51      1135\n",
      "weighted avg       0.69      0.53      0.55      1135\n",
      "\n",
      "Cohen Kappa Score: 0.414212123281657\n",
      "\n",
      "\n",
      "RESULTS FOR kNN\n",
      "Accuracy: 0.8493392070484581\n"
     ]
    },
    {
     "data": {
      "image/png": "[encoded data removed]",
      "text/plain": [
       "<Figure size 432x288 with 1 Axes>"
      ]
     },
     "metadata": {
      "needs_background": "light"
     },
     "output_type": "display_data"
    },
    {
     "name": "stdout",
     "output_type": "stream",
     "text": [
      "\n",
      " clasification report:\n",
      "               precision    recall  f1-score   support\n",
      "\n",
      "           1       0.74      0.82      0.78       116\n",
      "           2       0.75      0.89      0.81        27\n",
      "           3       0.81      0.86      0.83       184\n",
      "           4       0.82      0.85      0.83       217\n",
      "           5       0.93      0.86      0.89       570\n",
      "           7       0.54      0.67      0.60        21\n",
      "\n",
      "    accuracy                           0.85      1135\n",
      "   macro avg       0.76      0.82      0.79      1135\n",
      "weighted avg       0.86      0.85      0.85      1135\n",
      "\n",
      "Cohen Kappa Score: 0.7810919180469318\n",
      "\n",
      "\n"
     ]
    }
   ],
   "source": [
    "for name, modelName in models:   # Select each model in turn\n",
    "    modelName.fit(X_train, y_train)  # train the model on the training data\n",
    "    y_predicted = modelName.predict(X_test)  # make predictions using the validation data\n",
    "    # What does the error look like?\n",
    "    print('RESULTS FOR '+name)  \n",
    "    print('Accuracy:', accuracy_score(y_test, y_predicted))\n",
    "    sns.heatmap(confusion_matrix(y_test, y_predicted), square=True, annot=True, fmt='d', cbar=False)\n",
    "    pl.xlabel('predicted')\n",
    "    pl.ylabel('true');\n",
    "    pl.show()\n",
    "    print('\\n clasification report:\\n', classification_report(y_test, y_predicted))\n",
    "    print('Cohen Kappa Score:', cohen_kappa_score(y_test, y_predicted))\n",
    "    print('\\n')"
   ]
  },
  {
   "cell_type": "markdown",
   "id": "993d0475",
   "metadata": {},
   "source": [
    "## 5)"
   ]
  },
  {
   "cell_type": "markdown",
   "id": "147dd25d",
   "metadata": {},
   "source": [
    "for logistic regression the performance yeild the accuracy rate of 0.6581497797356828 when the weight is none which is higher than 0.533920704845815 when the weight is balance\n",
    "\n",
    "for KNN, the better model is when K=10, weight is distance which yeild the accuracy rate of 0.8493392070484581. Althought the testing accuracy is higher, it is not as much higher because the model of K=5 with uniform weight yeild the accuracy rate of 0.8405286343612335"
   ]
  }
 ],
 "metadata": {
  "kernelspec": {
   "display_name": "Python 3 (ipykernel)",
   "language": "python",
   "name": "python3"
  },
  "language_info": {
   "codemirror_mode": {
    "name": "ipython",
    "version": 3
   },
   "file_extension": ".py",
   "mimetype": "text/x-python",
   "name": "python",
   "nbconvert_exporter": "python",
   "pygments_lexer": "ipython3",
   "version": "3.9.7"
  }
 },
 "nbformat": 4,
 "nbformat_minor": 5
}
